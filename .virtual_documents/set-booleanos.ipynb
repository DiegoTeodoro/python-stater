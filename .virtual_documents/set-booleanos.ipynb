a = input()


a


float(123)


x = set()


x


x.add(1)


x


x.add(2)


x.add(3)


x


l =[1,2,3,3,4,5,6,7,7]


set(l)





a =True


b = False


a == b


a == b


8 > 10



