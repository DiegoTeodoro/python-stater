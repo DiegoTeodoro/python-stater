{
 "cells": [
  {
   "cell_type": "code",
   "execution_count": 1,
   "id": "494d68b6-c75f-4d8a-a6d6-cbdd0135ba80",
   "metadata": {},
   "outputs": [
    {
     "data": {
      "text/plain": [
       "'hello'"
      ]
     },
     "execution_count": 1,
     "metadata": {},
     "output_type": "execute_result"
    }
   ],
   "source": [
    "'hello'"
   ]
  },
  {
   "cell_type": "code",
   "execution_count": 2,
   "id": "928a7166-1920-43c0-a9d5-07c0d18b81d0",
   "metadata": {},
   "outputs": [
    {
     "data": {
      "text/plain": [
       "'Curso de Python'"
      ]
     },
     "execution_count": 2,
     "metadata": {},
     "output_type": "execute_result"
    }
   ],
   "source": [
    "'Curso de Python'"
   ]
  },
  {
   "cell_type": "code",
   "execution_count": 3,
   "id": "d0b5af9a-7c8a-41f0-89be-5bf65e3b25da",
   "metadata": {},
   "outputs": [
    {
     "name": "stdout",
     "output_type": "stream",
     "text": [
      "Olá Mundo!\n"
     ]
    }
   ],
   "source": [
    "print('Olá Mundo!')"
   ]
  },
  {
   "cell_type": "code",
   "execution_count": 6,
   "id": "7c3a838a-05e8-4310-a3b3-4ac7a3089bf9",
   "metadata": {},
   "outputs": [
    {
     "name": "stdout",
     "output_type": "stream",
     "text": [
      "Você \n",
      " usa python para \n",
      " criar programas?\n"
     ]
    }
   ],
   "source": [
    "print('Você \\n usa python para \\n criar programas?')"
   ]
  },
  {
   "cell_type": "markdown",
   "id": "51c69c2c-442e-45fa-a262-aabaa636982e",
   "metadata": {},
   "source": [
    "## Indexação em Strings"
   ]
  },
  {
   "cell_type": "code",
   "execution_count": 18,
   "id": "15eaa57a-13bb-4f6f-8701-e2613b99d1a2",
   "metadata": {},
   "outputs": [],
   "source": [
    "s = 'Ola Mundo'"
   ]
  },
  {
   "cell_type": "code",
   "execution_count": 19,
   "id": "41bcc84e-e41d-4eef-9598-f606307d4958",
   "metadata": {},
   "outputs": [
    {
     "name": "stdout",
     "output_type": "stream",
     "text": [
      "Ola Mundo\n"
     ]
    }
   ],
   "source": [
    "print(s)"
   ]
  },
  {
   "cell_type": "code",
   "execution_count": 20,
   "id": "74629b99-9242-44ee-926e-4b39608838e0",
   "metadata": {},
   "outputs": [
    {
     "data": {
      "text/plain": [
       "'O'"
      ]
     },
     "execution_count": 20,
     "metadata": {},
     "output_type": "execute_result"
    }
   ],
   "source": [
    "s[0]"
   ]
  },
  {
   "cell_type": "code",
   "execution_count": 21,
   "id": "0f4024f5-6b43-4192-8a86-150c06bba8ee",
   "metadata": {},
   "outputs": [
    {
     "data": {
      "text/plain": [
       "' '"
      ]
     },
     "execution_count": 21,
     "metadata": {},
     "output_type": "execute_result"
    }
   ],
   "source": [
    "s[3]"
   ]
  },
  {
   "cell_type": "code",
   "execution_count": 22,
   "id": "45f52b41-3daf-4d29-9ab5-1b050bafbe11",
   "metadata": {},
   "outputs": [
    {
     "data": {
      "text/plain": [
       "'a Mundo'"
      ]
     },
     "execution_count": 22,
     "metadata": {},
     "output_type": "execute_result"
    }
   ],
   "source": [
    "s[2:]"
   ]
  },
  {
   "cell_type": "code",
   "execution_count": 23,
   "id": "8d5efa99-5101-47fd-8362-7c0bb412a43c",
   "metadata": {},
   "outputs": [
    {
     "data": {
      "text/plain": [
       "'Ola'"
      ]
     },
     "execution_count": 23,
     "metadata": {},
     "output_type": "execute_result"
    }
   ],
   "source": [
    "s[:3]"
   ]
  },
  {
   "cell_type": "code",
   "execution_count": 24,
   "id": "687a2142-9a24-4a98-abc3-b1a895522878",
   "metadata": {},
   "outputs": [
    {
     "data": {
      "text/plain": [
       "'o'"
      ]
     },
     "execution_count": 24,
     "metadata": {},
     "output_type": "execute_result"
    }
   ],
   "source": [
    "s[-1]"
   ]
  },
  {
   "cell_type": "code",
   "execution_count": 25,
   "id": "278555ee-7018-49d8-997c-32582346a5b0",
   "metadata": {},
   "outputs": [
    {
     "data": {
      "text/plain": [
       "'Ola Mund'"
      ]
     },
     "execution_count": 25,
     "metadata": {},
     "output_type": "execute_result"
    }
   ],
   "source": [
    "s[:-1]"
   ]
  },
  {
   "cell_type": "code",
   "execution_count": 26,
   "id": "4f07dc58-ccc0-4e61-8e39-e7e2f19061f4",
   "metadata": {},
   "outputs": [
    {
     "data": {
      "text/plain": [
       "'Ola Mundo'"
      ]
     },
     "execution_count": 26,
     "metadata": {},
     "output_type": "execute_result"
    }
   ],
   "source": [
    "s[::1]"
   ]
  },
  {
   "cell_type": "code",
   "execution_count": 27,
   "id": "89f58d15-2c27-4c2f-a0fd-2e78ba597036",
   "metadata": {},
   "outputs": [
    {
     "data": {
      "text/plain": [
       "'OaMno'"
      ]
     },
     "execution_count": 27,
     "metadata": {},
     "output_type": "execute_result"
    }
   ],
   "source": [
    "s[::2]"
   ]
  },
  {
   "cell_type": "code",
   "execution_count": 28,
   "id": "9973622f-fad3-4821-a49c-77c02c8c1d19",
   "metadata": {},
   "outputs": [
    {
     "data": {
      "text/plain": [
       "9"
      ]
     },
     "execution_count": 28,
     "metadata": {},
     "output_type": "execute_result"
    }
   ],
   "source": [
    "len(s)"
   ]
  },
  {
   "cell_type": "code",
   "execution_count": 31,
   "id": "2e1d9e67-264d-4128-a599-7b54d40e5e2a",
   "metadata": {},
   "outputs": [],
   "source": [
    "x = 'z'"
   ]
  },
  {
   "cell_type": "code",
   "execution_count": 32,
   "id": "71d9c691-18de-4b49-b2f3-ef8a31fc49a4",
   "metadata": {},
   "outputs": [
    {
     "data": {
      "text/plain": [
       "'zzzzzzzzzz'"
      ]
     },
     "execution_count": 32,
     "metadata": {},
     "output_type": "execute_result"
    }
   ],
   "source": [
    "x*10"
   ]
  },
  {
   "cell_type": "markdown",
   "id": "25634451-335a-445f-8ffd-715b1691f601",
   "metadata": {},
   "source": [
    " ## Métodos embutidos em strings"
   ]
  },
  {
   "cell_type": "code",
   "execution_count": 33,
   "id": "1caca70b-09c2-4f72-8f78-2fccdfac27b7",
   "metadata": {},
   "outputs": [],
   "source": [
    "a = 'utilizacao de metods em string'"
   ]
  },
  {
   "cell_type": "code",
   "execution_count": 34,
   "id": "43d798cf-6fbd-46c4-9f94-fdcf0f2f39b0",
   "metadata": {},
   "outputs": [
    {
     "name": "stdout",
     "output_type": "stream",
     "text": [
      "UTILIZACAO DE METODS EM STRING\n"
     ]
    }
   ],
   "source": [
    "print(a.upper())"
   ]
  },
  {
   "cell_type": "code",
   "execution_count": 35,
   "id": "7bf90842-6223-4eeb-8724-d5cebf7baf95",
   "metadata": {},
   "outputs": [
    {
     "name": "stdout",
     "output_type": "stream",
     "text": [
      "utilizacao de metods em string\n"
     ]
    }
   ],
   "source": [
    "print(a.lower())"
   ]
  },
  {
   "cell_type": "code",
   "execution_count": 36,
   "id": "3fdbd70e-cd74-4810-951d-272f576ad000",
   "metadata": {},
   "outputs": [
    {
     "data": {
      "text/plain": [
       "['utilizacao', 'de', 'metods', 'em', 'string']"
      ]
     },
     "execution_count": 36,
     "metadata": {},
     "output_type": "execute_result"
    }
   ],
   "source": [
    "a.split()"
   ]
  },
  {
   "cell_type": "code",
   "execution_count": 37,
   "id": "8e69fab4-23a9-4b90-8688-1c59a9139503",
   "metadata": {},
   "outputs": [
    {
     "data": {
      "text/plain": [
       "str"
      ]
     },
     "execution_count": 37,
     "metadata": {},
     "output_type": "execute_result"
    }
   ],
   "source": [
    "type(a)"
   ]
  },
  {
   "cell_type": "code",
   "execution_count": 39,
   "id": "dc9b9c09-5d21-4f05-819e-11f8024baebe",
   "metadata": {},
   "outputs": [
    {
     "data": {
      "text/plain": [
       "['__add__',\n",
       " '__class__',\n",
       " '__contains__',\n",
       " '__delattr__',\n",
       " '__dir__',\n",
       " '__doc__',\n",
       " '__eq__',\n",
       " '__format__',\n",
       " '__ge__',\n",
       " '__getattribute__',\n",
       " '__getitem__',\n",
       " '__getnewargs__',\n",
       " '__getstate__',\n",
       " '__gt__',\n",
       " '__hash__',\n",
       " '__init__',\n",
       " '__init_subclass__',\n",
       " '__iter__',\n",
       " '__le__',\n",
       " '__len__',\n",
       " '__lt__',\n",
       " '__mod__',\n",
       " '__mul__',\n",
       " '__ne__',\n",
       " '__new__',\n",
       " '__reduce__',\n",
       " '__reduce_ex__',\n",
       " '__repr__',\n",
       " '__rmod__',\n",
       " '__rmul__',\n",
       " '__setattr__',\n",
       " '__sizeof__',\n",
       " '__str__',\n",
       " '__subclasshook__',\n",
       " 'capitalize',\n",
       " 'casefold',\n",
       " 'center',\n",
       " 'count',\n",
       " 'encode',\n",
       " 'endswith',\n",
       " 'expandtabs',\n",
       " 'find',\n",
       " 'format',\n",
       " 'format_map',\n",
       " 'index',\n",
       " 'isalnum',\n",
       " 'isalpha',\n",
       " 'isascii',\n",
       " 'isdecimal',\n",
       " 'isdigit',\n",
       " 'isidentifier',\n",
       " 'islower',\n",
       " 'isnumeric',\n",
       " 'isprintable',\n",
       " 'isspace',\n",
       " 'istitle',\n",
       " 'isupper',\n",
       " 'join',\n",
       " 'ljust',\n",
       " 'lower',\n",
       " 'lstrip',\n",
       " 'maketrans',\n",
       " 'partition',\n",
       " 'removeprefix',\n",
       " 'removesuffix',\n",
       " 'replace',\n",
       " 'rfind',\n",
       " 'rindex',\n",
       " 'rjust',\n",
       " 'rpartition',\n",
       " 'rsplit',\n",
       " 'rstrip',\n",
       " 'split',\n",
       " 'splitlines',\n",
       " 'startswith',\n",
       " 'strip',\n",
       " 'swapcase',\n",
       " 'title',\n",
       " 'translate',\n",
       " 'upper',\n",
       " 'zfill']"
      ]
     },
     "execution_count": 39,
     "metadata": {},
     "output_type": "execute_result"
    }
   ],
   "source": [
    "dir('hello')"
   ]
  },
  {
   "cell_type": "code",
   "execution_count": 40,
   "id": "0f8c6557-d0de-4b0f-962c-b0e5b09cd9c8",
   "metadata": {},
   "outputs": [],
   "source": [
    "email ='diegoteo@gmail.com'"
   ]
  },
  {
   "cell_type": "code",
   "execution_count": 43,
   "id": "bdcf1854-d719-4c73-8872-610a5529f87e",
   "metadata": {},
   "outputs": [
    {
     "data": {
      "text/plain": [
       "['diegoteo', 'gmail.com']"
      ]
     },
     "execution_count": 43,
     "metadata": {},
     "output_type": "execute_result"
    }
   ],
   "source": [
    "email.split('@')"
   ]
  },
  {
   "cell_type": "code",
   "execution_count": 44,
   "id": "3943610b-f9f2-40ad-8ee3-ad6d335cb33e",
   "metadata": {},
   "outputs": [
    {
     "data": {
      "text/plain": [
       "['diegoteo', 'gmail.com']"
      ]
     },
     "execution_count": 44,
     "metadata": {},
     "output_type": "execute_result"
    }
   ],
   "source": [
    "email.split('@')"
   ]
  },
  {
   "cell_type": "markdown",
   "id": "9dc5a242-fccf-4195-99ff-e62d40cca75c",
   "metadata": {},
   "source": [
    "## Format"
   ]
  },
  {
   "cell_type": "code",
   "execution_count": 48,
   "id": "593a8d3f-a1b2-4cfa-8608-c657c893599f",
   "metadata": {},
   "outputs": [
    {
     "name": "stdout",
     "output_type": "stream",
     "text": [
      "O seu nomé é Diego, e a sua idade é 20\n"
     ]
    }
   ],
   "source": [
    "nome='Diego'\n",
    "idade =20\n",
    "print(\"O seu nomé é {}, e a sua idade é {}\".format(nome, idade))"
   ]
  },
  {
   "cell_type": "code",
   "execution_count": null,
   "id": "18126f7e-7379-47d2-b593-0bf37ba2e1db",
   "metadata": {},
   "outputs": [],
   "source": []
  }
 ],
 "metadata": {
  "kernelspec": {
   "display_name": "Python 3 (ipykernel)",
   "language": "python",
   "name": "python3"
  },
  "language_info": {
   "codemirror_mode": {
    "name": "ipython",
    "version": 3
   },
   "file_extension": ".py",
   "mimetype": "text/x-python",
   "name": "python",
   "nbconvert_exporter": "python",
   "pygments_lexer": "ipython3",
   "version": "3.11.7"
  }
 },
 "nbformat": 4,
 "nbformat_minor": 5
}
