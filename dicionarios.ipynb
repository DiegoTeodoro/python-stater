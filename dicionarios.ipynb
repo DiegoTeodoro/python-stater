{
 "cells": [
  {
   "cell_type": "code",
   "execution_count": 11,
   "id": "5eb9e319-5f08-4da0-8777-dfae378fbab0",
   "metadata": {},
   "outputs": [],
   "source": [
    "meu_dicionario ={'nome':'Diego','idade':38}"
   ]
  },
  {
   "cell_type": "code",
   "execution_count": 12,
   "id": "3434a85c-1f9f-4ff9-99cb-2726ca921aca",
   "metadata": {},
   "outputs": [
    {
     "data": {
      "text/plain": [
       "{'nome': 'Diego', 'idade': 38}"
      ]
     },
     "execution_count": 12,
     "metadata": {},
     "output_type": "execute_result"
    }
   ],
   "source": [
    "meu_dicionario"
   ]
  },
  {
   "cell_type": "code",
   "execution_count": 16,
   "id": "de44f8d3-9cb3-47e8-b598-ecd9e9a15cba",
   "metadata": {},
   "outputs": [
    {
     "data": {
      "text/plain": [
       "'DIEGO'"
      ]
     },
     "execution_count": 16,
     "metadata": {},
     "output_type": "execute_result"
    }
   ],
   "source": [
    "meu_dicionario['nome'].upper()"
   ]
  },
  {
   "cell_type": "code",
   "execution_count": 17,
   "id": "90d21292-29bc-4cba-b818-4c78d5a1f019",
   "metadata": {},
   "outputs": [],
   "source": [
    "meu_dicionario[\"cidade\"]=\"Uberlândia\""
   ]
  },
  {
   "cell_type": "code",
   "execution_count": 18,
   "id": "0fb540ff-8805-4a6a-8870-799b39da4787",
   "metadata": {},
   "outputs": [
    {
     "data": {
      "text/plain": [
       "{'nome': 'Diego', 'idade': 38, 'cidade': 'Uberlândia'}"
      ]
     },
     "execution_count": 18,
     "metadata": {},
     "output_type": "execute_result"
    }
   ],
   "source": [
    "meu_dicionario"
   ]
  },
  {
   "cell_type": "code",
   "execution_count": 19,
   "id": "98d486d0-6038-4bc3-9fd5-43fe36624dc9",
   "metadata": {},
   "outputs": [],
   "source": [
    "meu_dicionario[\"email\"]=\"diego@gmail.com\""
   ]
  },
  {
   "cell_type": "code",
   "execution_count": 20,
   "id": "0ba0ca7a-652f-40ea-bfd5-596fb4dc0873",
   "metadata": {},
   "outputs": [
    {
     "data": {
      "text/plain": [
       "{'nome': 'Diego',\n",
       " 'idade': 38,\n",
       " 'cidade': 'Uberlândia',\n",
       " 'email': 'diego@gmail.com'}"
      ]
     },
     "execution_count": 20,
     "metadata": {},
     "output_type": "execute_result"
    }
   ],
   "source": [
    "meu_dicionario"
   ]
  },
  {
   "cell_type": "code",
   "execution_count": 21,
   "id": "d3a3d427-eabf-4309-a54d-5ae1a53c5639",
   "metadata": {},
   "outputs": [
    {
     "data": {
      "text/plain": [
       "dict_keys(['nome', 'idade', 'cidade', 'email'])"
      ]
     },
     "execution_count": 21,
     "metadata": {},
     "output_type": "execute_result"
    }
   ],
   "source": [
    "meu_dicionario.keys()"
   ]
  },
  {
   "cell_type": "code",
   "execution_count": 22,
   "id": "64c59784-d209-450b-b83d-fd9aeb7cb6ea",
   "metadata": {},
   "outputs": [
    {
     "data": {
      "text/plain": [
       "dict_items([('nome', 'Diego'), ('idade', 38), ('cidade', 'Uberlândia'), ('email', 'diego@gmail.com')])"
      ]
     },
     "execution_count": 22,
     "metadata": {},
     "output_type": "execute_result"
    }
   ],
   "source": [
    "meu_dicionario.items()"
   ]
  },
  {
   "cell_type": "code",
   "execution_count": null,
   "id": "7c65d434-23cb-4aec-9d02-7acc5553aa8c",
   "metadata": {},
   "outputs": [],
   "source": []
  }
 ],
 "metadata": {
  "kernelspec": {
   "display_name": "Python 3 (ipykernel)",
   "language": "python",
   "name": "python3"
  },
  "language_info": {
   "codemirror_mode": {
    "name": "ipython",
    "version": 3
   },
   "file_extension": ".py",
   "mimetype": "text/x-python",
   "name": "python",
   "nbconvert_exporter": "python",
   "pygments_lexer": "ipython3",
   "version": "3.11.7"
  }
 },
 "nbformat": 4,
 "nbformat_minor": 5
}
