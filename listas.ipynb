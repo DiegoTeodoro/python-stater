{
 "cells": [
  {
   "cell_type": "code",
   "execution_count": 1,
   "id": "b849e05e-b1e0-470f-a794-a49c1659617d",
   "metadata": {},
   "outputs": [],
   "source": [
    "lista=[1,2,3,4]"
   ]
  },
  {
   "cell_type": "code",
   "execution_count": 2,
   "id": "c424eff0-04ad-4636-909e-ff4e928fd444",
   "metadata": {},
   "outputs": [
    {
     "data": {
      "text/plain": [
       "[1, 2, 3, 4]"
      ]
     },
     "execution_count": 2,
     "metadata": {},
     "output_type": "execute_result"
    }
   ],
   "source": [
    "lista"
   ]
  },
  {
   "cell_type": "code",
   "execution_count": 3,
   "id": "d41b9f65-01af-4593-bff8-7b14ad435a1e",
   "metadata": {},
   "outputs": [
    {
     "data": {
      "text/plain": [
       "3"
      ]
     },
     "execution_count": 3,
     "metadata": {},
     "output_type": "execute_result"
    }
   ],
   "source": [
    "lista[2]"
   ]
  },
  {
   "cell_type": "code",
   "execution_count": 13,
   "id": "ebf1586e-19ac-4fae-bf89-5d3de8815480",
   "metadata": {},
   "outputs": [],
   "source": [
    "lista2=[lista, 6,5,8,7,12,10]"
   ]
  },
  {
   "cell_type": "code",
   "execution_count": 14,
   "id": "56fbc253-de6c-4d17-b711-074b429174ba",
   "metadata": {},
   "outputs": [
    {
     "data": {
      "text/plain": [
       "[[1, 2, 3, 4], 6, 5, 8, 7, 12, 10]"
      ]
     },
     "execution_count": 14,
     "metadata": {},
     "output_type": "execute_result"
    }
   ],
   "source": [
    "lista2"
   ]
  },
  {
   "cell_type": "code",
   "execution_count": 15,
   "id": "621d2e86-6183-4543-a451-f7788fda5db0",
   "metadata": {},
   "outputs": [],
   "source": [
    "lista2.append('Olá mundo')"
   ]
  },
  {
   "cell_type": "code",
   "execution_count": 16,
   "id": "c24002b0-e9d0-413a-9f13-5c2a2a82135c",
   "metadata": {},
   "outputs": [
    {
     "data": {
      "text/plain": [
       "[[1, 2, 3, 4], 6, 5, 8, 7, 12, 10, 'Olá mundo']"
      ]
     },
     "execution_count": 16,
     "metadata": {},
     "output_type": "execute_result"
    }
   ],
   "source": [
    "lista2"
   ]
  },
  {
   "cell_type": "code",
   "execution_count": 17,
   "id": "9269a228-4753-4575-ba16-4381fa6f7edd",
   "metadata": {},
   "outputs": [
    {
     "name": "stdout",
     "output_type": "stream",
     "text": [
      "Olá mundo\n"
     ]
    }
   ],
   "source": [
    "print(lista2.pop())"
   ]
  },
  {
   "cell_type": "code",
   "execution_count": 18,
   "id": "38acb6dd-47cb-4d3e-bbf0-2a63eac325ff",
   "metadata": {},
   "outputs": [
    {
     "name": "stdout",
     "output_type": "stream",
     "text": [
      "[[1, 2, 3, 4], 6, 5, 8, 7, 12, 10]\n"
     ]
    }
   ],
   "source": [
    "print(lista2)"
   ]
  },
  {
   "cell_type": "code",
   "execution_count": 21,
   "id": "987e97d9-7548-4806-b70e-22465526d3b7",
   "metadata": {},
   "outputs": [],
   "source": [
    "lista3=['a','e','c','b','d']"
   ]
  },
  {
   "cell_type": "code",
   "execution_count": 22,
   "id": "3d307b42-0a51-4620-9adc-37c1a54c316b",
   "metadata": {},
   "outputs": [
    {
     "data": {
      "text/plain": [
       "['a', 'e', 'c', 'b', 'd']"
      ]
     },
     "execution_count": 22,
     "metadata": {},
     "output_type": "execute_result"
    }
   ],
   "source": [
    "lista3"
   ]
  },
  {
   "cell_type": "code",
   "execution_count": 29,
   "id": "8087e562-063a-47e9-af55-a6256a607c47",
   "metadata": {},
   "outputs": [],
   "source": [
    "lista3.sort()"
   ]
  },
  {
   "cell_type": "code",
   "execution_count": 30,
   "id": "d16ccd54-82e6-4485-887b-b5c65eda2d53",
   "metadata": {},
   "outputs": [
    {
     "data": {
      "text/plain": [
       "['a', 'b', 'c', 'd', 'e']"
      ]
     },
     "execution_count": 30,
     "metadata": {},
     "output_type": "execute_result"
    }
   ],
   "source": [
    "lista3"
   ]
  },
  {
   "cell_type": "markdown",
   "id": "ecd465b8-cd03-4427-bda7-a634747ef3e8",
   "metadata": {},
   "source": [
    "## Listas aninhadas\n"
   ]
  },
  {
   "cell_type": "code",
   "execution_count": 31,
   "id": "90270a67-b741-4691-9023-6a0f6a51470a",
   "metadata": {},
   "outputs": [],
   "source": [
    "lst_1=[1,2,3]\n",
    "lst_2=[4,5,6]\n",
    "lst_3=[7,8,9]"
   ]
  },
  {
   "cell_type": "code",
   "execution_count": 33,
   "id": "9e319469-4be5-4be2-9b11-d245486ddc9b",
   "metadata": {},
   "outputs": [],
   "source": [
    "matrix =lst_1,lst_2,lst_3"
   ]
  },
  {
   "cell_type": "code",
   "execution_count": 34,
   "id": "c68b0c14-0018-4032-a7ac-765818bcd599",
   "metadata": {},
   "outputs": [
    {
     "data": {
      "text/plain": [
       "([1, 2, 3], [4, 5, 6], [7, 8, 9])"
      ]
     },
     "execution_count": 34,
     "metadata": {},
     "output_type": "execute_result"
    }
   ],
   "source": [
    "matrix"
   ]
  },
  {
   "cell_type": "code",
   "execution_count": 36,
   "id": "1c0af66d-fa65-422d-9e78-b3b841ac9750",
   "metadata": {},
   "outputs": [
    {
     "data": {
      "text/plain": [
       "[1, 2, 3]"
      ]
     },
     "execution_count": 36,
     "metadata": {},
     "output_type": "execute_result"
    }
   ],
   "source": [
    "matrix[0]"
   ]
  },
  {
   "cell_type": "code",
   "execution_count": 37,
   "id": "fdda3b85-2909-4ad7-8a6a-f8d348cee145",
   "metadata": {},
   "outputs": [
    {
     "data": {
      "text/plain": [
       "2"
      ]
     },
     "execution_count": 37,
     "metadata": {},
     "output_type": "execute_result"
    }
   ],
   "source": [
    "matrix[0][1]"
   ]
  },
  {
   "cell_type": "code",
   "execution_count": 38,
   "id": "8fa95557-9b4d-44b6-b28f-64a68bc291b4",
   "metadata": {},
   "outputs": [
    {
     "data": {
      "text/plain": [
       "9"
      ]
     },
     "execution_count": 38,
     "metadata": {},
     "output_type": "execute_result"
    }
   ],
   "source": [
    "matrix[2][2]"
   ]
  },
  {
   "cell_type": "code",
   "execution_count": null,
   "id": "85b2ec5b-2145-4425-ab3f-b13166787266",
   "metadata": {},
   "outputs": [],
   "source": []
  }
 ],
 "metadata": {
  "kernelspec": {
   "display_name": "Python 3 (ipykernel)",
   "language": "python",
   "name": "python3"
  },
  "language_info": {
   "codemirror_mode": {
    "name": "ipython",
    "version": 3
   },
   "file_extension": ".py",
   "mimetype": "text/x-python",
   "name": "python",
   "nbconvert_exporter": "python",
   "pygments_lexer": "ipython3",
   "version": "3.11.7"
  }
 },
 "nbformat": 4,
 "nbformat_minor": 5
}
